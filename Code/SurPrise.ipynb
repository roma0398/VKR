{
 "cells": [
  {
   "cell_type": "code",
   "execution_count": null,
   "metadata": {},
   "outputs": [],
   "source": [
    "import os\n",
    "import pandas as pd\n",
    "from math import sqrt\n",
    "import numpy as np\n",
    "import matplotlib\n",
    "import matplotlib.pyplot as plt\n",
    "from tqdm.notebook import tqdm\n",
    "from collections import Counter\n",
    "from surprise import SVD\n",
    "from surprise import KNNBasic\n",
    "from surprise import CoClustering\n",
    "from surprise import NormalPredictor\n",
    "from surprise import Dataset\n",
    "from surprise import Reader\n",
    "from surprise.model_selection import cross_validate\n",
    "from surprise.model_selection import train_test_split\n",
    "from sklearn.utils import shuffle\n",
    "from sklearn.metrics import mean_squared_error as mse\n",
    "from multiprocessing import Pool"
   ]
  },
  {
   "cell_type": "code",
   "execution_count": null,
   "metadata": {},
   "outputs": [],
   "source": [
    "movies = pd.read_csv('data/25m/movies.csv', usecols = [0, 2], names = ['movieId', 'genres'])\n",
    "ratings = pd.read_csv('data/25m/ratings.csv', usecols = [0, 1, 2], names = ['userId', 'movieId', 'rating'])"
   ]
  },
  {
   "cell_type": "code",
   "execution_count": null,
   "metadata": {},
   "outputs": [],
   "source": [
    "genres_list = []\n",
    "for i in movies['genres']:\n",
    "    genres_list.extend(i.split('|'))\n",
    "genres = list(set(genres_list))\n",
    "genres"
   ]
  },
  {
   "cell_type": "code",
   "execution_count": null,
   "metadata": {},
   "outputs": [],
   "source": [
    "dict_mov = Counter(genres_list)\n",
    "val_mov = np.array(list(dict_mov.values()))\n",
    "val_mov = val_mov / val_mov.sum()\n",
    "movie_distr = dict(zip(list(dict_mov.keys()), val_mov))"
   ]
  },
  {
   "cell_type": "code",
   "execution_count": null,
   "metadata": {},
   "outputs": [],
   "source": [
    "x = np.arange(len(genres))\n",
    "width = 0.5\n",
    "\n",
    "fig, ax = plt.subplots(figsize=(22,8))\n",
    "rects1 = ax.bar(x, movie_distr.values(), width, label='True')\n",
    "\n",
    "ax.set_ylabel('Вероятность', fontsize=14)\n",
    "ax.set_xticks(x)\n",
    "ax.set_xticklabels(movie_distr.keys(), fontsize=14)\n",
    "ax.legend(fontsize=14)\n",
    "fig.tight_layout()\n",
    "\n",
    "plt.show()"
   ]
  },
  {
   "cell_type": "code",
   "execution_count": null,
   "metadata": {},
   "outputs": [],
   "source": [
    "col_df = ['userId']\n",
    "col_df.extend(genres)"
   ]
  },
  {
   "cell_type": "code",
   "execution_count": null,
   "metadata": {},
   "outputs": [],
   "source": [
    "users = list(set(ratings['userId']))"
   ]
  },
  {
   "cell_type": "code",
   "execution_count": null,
   "metadata": {},
   "outputs": [],
   "source": []
  },
  {
   "cell_type": "code",
   "execution_count": null,
   "metadata": {},
   "outputs": [],
   "source": []
  },
  {
   "cell_type": "code",
   "execution_count": null,
   "metadata": {},
   "outputs": [],
   "source": [
    "reader = Reader(line_format='user item rating')"
   ]
  },
  {
   "cell_type": "code",
   "execution_count": null,
   "metadata": {},
   "outputs": [],
   "source": [
    "data = Dataset.load_from_df(ratings, reader=reader)"
   ]
  },
  {
   "cell_type": "code",
   "execution_count": null,
   "metadata": {},
   "outputs": [],
   "source": [
    "# data = Dataset.load_builtin('ml-20m')"
   ]
  },
  {
   "cell_type": "code",
   "execution_count": null,
   "metadata": {},
   "outputs": [],
   "source": [
    "algo = KNNBasic()\n",
    "\n",
    "cross_validate(algo, data, measures=['RMSE', 'MAE'], cv=3, verbose=True, n_jobs=4)"
   ]
  },
  {
   "cell_type": "code",
   "execution_count": null,
   "metadata": {},
   "outputs": [],
   "source": [
    "trainset, testset = train_test_split(data, test_size=.3)"
   ]
  },
  {
   "cell_type": "code",
   "execution_count": null,
   "metadata": {},
   "outputs": [],
   "source": [
    "df = shuffle(ratings)\n",
    "trainset = df[:3500000].reset_index().drop(['index'], axis=1)\n",
    "testset = df[3500000:].reset_index().drop(['index'], axis=1)"
   ]
  },
  {
   "cell_type": "code",
   "execution_count": null,
   "metadata": {},
   "outputs": [],
   "source": [
    "reader = Reader(rating_scale=(0, 5.0))\n",
    "\n",
    "data = Dataset.load_from_df(trainset[['userId', 'movieId', 'rating']], reader)"
   ]
  },
  {
   "cell_type": "code",
   "execution_count": null,
   "metadata": {},
   "outputs": [],
   "source": [
    "train = data.build_full_trainset()\n",
    "test = testset.values"
   ]
  },
  {
   "cell_type": "code",
   "execution_count": null,
   "metadata": {},
   "outputs": [],
   "source": [
    "algo = NormalPredictor()\n",
    "\n",
    "algo.fit(train)\n",
    "predictions = algo.test(test)"
   ]
  },
  {
   "cell_type": "code",
   "execution_count": null,
   "metadata": {},
   "outputs": [],
   "source": [
    "predictions = pd.read_csv('data/predictions.csv')"
   ]
  },
  {
   "cell_type": "code",
   "execution_count": null,
   "metadata": {},
   "outputs": [],
   "source": [
    "usersId = predictions['uid'].values\n",
    "usersId = list(set(usersId))\n",
    "pred = pd.DataFrame(predictions)"
   ]
  },
  {
   "cell_type": "code",
   "execution_count": null,
   "metadata": {},
   "outputs": [],
   "source": [
    "trainset.to_csv('data/trainset.csv', index=None)"
   ]
  },
  {
   "cell_type": "code",
   "execution_count": null,
   "metadata": {},
   "outputs": [],
   "source": [
    "trainset = pd.read_csv('data/trainset.csv')"
   ]
  },
  {
   "cell_type": "code",
   "execution_count": null,
   "metadata": {},
   "outputs": [],
   "source": [
    "rec = pred.loc[pred['est']>=3.5]"
   ]
  },
  {
   "cell_type": "code",
   "execution_count": null,
   "metadata": {},
   "outputs": [],
   "source": [
    "dist = trainset.loc[trainset['rating'] >= 3.5] #pred.loc[pred['r_ui']>3.5]"
   ]
  },
  {
   "cell_type": "code",
   "execution_count": null,
   "metadata": {},
   "outputs": [],
   "source": [
    "rec"
   ]
  },
  {
   "cell_type": "code",
   "execution_count": null,
   "metadata": {},
   "outputs": [],
   "source": [
    "dist"
   ]
  },
  {
   "cell_type": "code",
   "execution_count": null,
   "metadata": {},
   "outputs": [],
   "source": [
    "rec['iid'].values"
   ]
  },
  {
   "cell_type": "code",
   "execution_count": null,
   "metadata": {},
   "outputs": [],
   "source": [
    "col_df"
   ]
  },
  {
   "cell_type": "code",
   "execution_count": null,
   "metadata": {},
   "outputs": [],
   "source": []
  },
  {
   "cell_type": "code",
   "execution_count": null,
   "metadata": {},
   "outputs": [],
   "source": [
    "us = [21 * [0]] * len(usersId)\n",
    "t_us = [21 * [0]] * len(set(dist['userId']))\n",
    "t_dist = pd.DataFrame(data=t_us, columns=col_df)\n",
    "p_dist = pd.DataFrame(data=us, columns=col_df)"
   ]
  },
  {
   "cell_type": "code",
   "execution_count": null,
   "metadata": {},
   "outputs": [],
   "source": [
    "p_dist['userId'] = usersId\n",
    "t_dist['userId'] = list(set(dist['userId'].values))"
   ]
  },
  {
   "cell_type": "code",
   "execution_count": null,
   "metadata": {},
   "outputs": [],
   "source": [
    "gen_df_rec = pd.DataFrame(data=[[0]*20], columns=genres)\n",
    "gen_df_true = pd.DataFrame(data=[[0]*20], columns=genres)"
   ]
  },
  {
   "cell_type": "code",
   "execution_count": null,
   "metadata": {},
   "outputs": [],
   "source": [
    "gen_df_rec = {x: 0 for x in genres}"
   ]
  },
  {
   "cell_type": "code",
   "execution_count": null,
   "metadata": {},
   "outputs": [],
   "source": [
    "for i in tqdm(rec['iid'].values):\n",
    "    gen = movies.loc[movies['movieId']==int(i), 'genres'].values[0].split('|')\n",
    "    for k in gen:\n",
    "        gen_df_rec[k] += 1"
   ]
  },
  {
   "cell_type": "code",
   "execution_count": null,
   "metadata": {},
   "outputs": [],
   "source": [
    "gen_df_true = {x: 0 for x in genres}"
   ]
  },
  {
   "cell_type": "code",
   "execution_count": null,
   "metadata": {},
   "outputs": [],
   "source": [
    "for i in tqdm(dist['movieId'].values):\n",
    "    gen = movies.loc[movies['movieId']==int(i), 'genres'].values[0].split('|')\n",
    "    for k in gen:\n",
    "        gen_df_true[k] += 1"
   ]
  },
  {
   "cell_type": "code",
   "execution_count": null,
   "metadata": {},
   "outputs": [],
   "source": [
    "dist_rec = np.array(list(gen_df_rec.values())) / sum(list(gen_df_rec.values()))"
   ]
  },
  {
   "cell_type": "code",
   "execution_count": null,
   "metadata": {},
   "outputs": [],
   "source": [
    "gen_df_rec"
   ]
  },
  {
   "cell_type": "code",
   "execution_count": null,
   "metadata": {},
   "outputs": [],
   "source": [
    "gen_df_true"
   ]
  },
  {
   "cell_type": "code",
   "execution_count": null,
   "metadata": {},
   "outputs": [],
   "source": [
    "dist_rec"
   ]
  },
  {
   "cell_type": "code",
   "execution_count": null,
   "metadata": {},
   "outputs": [],
   "source": [
    "dist_true = np.array(list(gen_df_true.values())) / sum(list(gen_df_true.values()))"
   ]
  },
  {
   "cell_type": "code",
   "execution_count": null,
   "metadata": {},
   "outputs": [],
   "source": [
    "dist_true"
   ]
  },
  {
   "cell_type": "code",
   "execution_count": null,
   "metadata": {},
   "outputs": [],
   "source": [
    "predictions = pd.DataFrame(predictions)\n",
    "predictions.drop(['details'], inplace=True, axis=1)"
   ]
  },
  {
   "cell_type": "code",
   "execution_count": null,
   "metadata": {},
   "outputs": [],
   "source": [
    "pd.DataFrame(predictions).to_csv('data/predictions.csv', index=None)"
   ]
  },
  {
   "cell_type": "code",
   "execution_count": null,
   "metadata": {},
   "outputs": [],
   "source": [
    "predictions = pd.read_csv('data/predictions.csv')"
   ]
  },
  {
   "cell_type": "code",
   "execution_count": null,
   "metadata": {},
   "outputs": [],
   "source": []
  },
  {
   "cell_type": "code",
   "execution_count": null,
   "metadata": {},
   "outputs": [],
   "source": [
    "predictions"
   ]
  },
  {
   "cell_type": "code",
   "execution_count": null,
   "metadata": {},
   "outputs": [],
   "source": [
    "rat_train = trainset.loc[trainset['rating'] > 3.5]"
   ]
  },
  {
   "cell_type": "code",
   "execution_count": null,
   "metadata": {},
   "outputs": [],
   "source": [
    "trainUsersId = list(set(rat_train['userId'].values))"
   ]
  },
  {
   "cell_type": "code",
   "execution_count": null,
   "metadata": {},
   "outputs": [],
   "source": [
    "trainMovieId = list(set(trainset['movieId'].values))"
   ]
  },
  {
   "cell_type": "code",
   "execution_count": null,
   "metadata": {},
   "outputs": [],
   "source": [
    "us = [21 * [0]] * len(trainUsersId)\n",
    "train_dist = pd.DataFrame(data=us, columns=col_df)\n",
    "train_dist['userId'] = trainUsersId"
   ]
  },
  {
   "cell_type": "code",
   "execution_count": null,
   "metadata": {},
   "outputs": [],
   "source": [
    "for i in tqdm(trainUsersId):\n",
    "    movId = trainset.loc[trainset['userId']==i, 'movieId'].values\n",
    "    for j in movId:\n",
    "        gen = movies.loc[movies['movieId']==j, 'genres'].values\n",
    "        if gen.size == 0:\n",
    "            continue\n",
    "        gen = gen[0].split('|')\n",
    "        for k in gen:\n",
    "            train_dist.loc[train_dist['userId']==i, k] += 1"
   ]
  },
  {
   "cell_type": "code",
   "execution_count": null,
   "metadata": {
    "scrolled": true
   },
   "outputs": [],
   "source": [
    "tr_dist = []\n",
    "def user_genre_dist(i):\n",
    "    temp = [i]\n",
    "    gen_col = dict(zip(genres, len(genres) * [0]))\n",
    "    movId = trainset.loc[trainset['userId']==i, 'movieId'].values\n",
    "    for j in movId:\n",
    "        gen = movies.loc[movies['movieId']==j, 'genres'].values\n",
    "        if gen.size == 0:\n",
    "            continue\n",
    "        gen = gen[0].split('|')\n",
    "        for k in gen:\n",
    "            gen_col[k] += 1\n",
    "    temp.extend(list(gen_col.values()))\n",
    "    return temp\n",
    "        \n",
    "    \n",
    "with Pool(7) as p:\n",
    "    tr_dist = p.map(user_genre_dist, trainUsersId)"
   ]
  },
  {
   "cell_type": "code",
   "execution_count": null,
   "metadata": {},
   "outputs": [],
   "source": [
    "train_dist = pd.DataFrame(data=tr_dist, columns=col_df)"
   ]
  },
  {
   "cell_type": "code",
   "execution_count": null,
   "metadata": {},
   "outputs": [],
   "source": [
    "train_dist"
   ]
  },
  {
   "cell_type": "code",
   "execution_count": null,
   "metadata": {},
   "outputs": [],
   "source": [
    "predictions"
   ]
  },
  {
   "cell_type": "code",
   "execution_count": null,
   "metadata": {},
   "outputs": [],
   "source": [
    "rat_pred = predictions.loc[predictions['est'] > 3.5]\n",
    "predUsersId = list(set(rat_pred['uid'].values))"
   ]
  },
  {
   "cell_type": "code",
   "execution_count": null,
   "metadata": {},
   "outputs": [],
   "source": []
  },
  {
   "cell_type": "code",
   "execution_count": null,
   "metadata": {},
   "outputs": [],
   "source": [
    "pr_dist = []\n",
    "def user_genre_dist(i):\n",
    "    temp = [i]\n",
    "    gen_col = dict(zip(genres, len(genres) * [0]))\n",
    "    movId = predictions.loc[predictions['uid']==i, 'iid'].values\n",
    "    for j in movId:\n",
    "        gen = movies.loc[movies['movieId']==j, 'genres'].values\n",
    "        if gen.size == 0:\n",
    "            continue\n",
    "        gen = gen[0].split('|')\n",
    "        for k in gen:\n",
    "            gen_col[k] += 1\n",
    "    temp.extend(list(gen_col.values()))\n",
    "    return temp\n",
    "        \n",
    "    \n",
    "with Pool(7) as p:\n",
    "    pr_dist = p.map(user_genre_dist, predUsersId)"
   ]
  },
  {
   "cell_type": "code",
   "execution_count": null,
   "metadata": {},
   "outputs": [],
   "source": [
    "pred_dist = pd.DataFrame(data=pr_dist, columns=col_df)"
   ]
  },
  {
   "cell_type": "code",
   "execution_count": null,
   "metadata": {},
   "outputs": [],
   "source": [
    "pred_dist"
   ]
  },
  {
   "cell_type": "code",
   "execution_count": null,
   "metadata": {},
   "outputs": [],
   "source": [
    "temp = []"
   ]
  },
  {
   "cell_type": "code",
   "execution_count": null,
   "metadata": {},
   "outputs": [],
   "source": [
    "for i in pred_dist[genres].values:\n",
    "    temp.append(i/sum(i))"
   ]
  },
  {
   "cell_type": "code",
   "execution_count": null,
   "metadata": {},
   "outputs": [],
   "source": [
    "pred_dist[genres] = temp\n",
    "pred_dist"
   ]
  },
  {
   "cell_type": "code",
   "execution_count": null,
   "metadata": {},
   "outputs": [],
   "source": [
    "temp = []"
   ]
  },
  {
   "cell_type": "code",
   "execution_count": null,
   "metadata": {},
   "outputs": [],
   "source": [
    "for i in train_dist[genres].values:\n",
    "    temp.append(i/sum(i))"
   ]
  },
  {
   "cell_type": "code",
   "execution_count": null,
   "metadata": {},
   "outputs": [],
   "source": [
    "train_dist[genres] = temp\n",
    "train_dist"
   ]
  },
  {
   "cell_type": "code",
   "execution_count": null,
   "metadata": {},
   "outputs": [],
   "source": [
    "train_dist.to_csv('data/train_dist.csv', index=None)\n",
    "pred_dist.to_csv('data/pred_dist.csv', index=None)"
   ]
  },
  {
   "cell_type": "code",
   "execution_count": null,
   "metadata": {},
   "outputs": [],
   "source": [
    "train_dist = pd.read_csv('data/train_dist.csv')\n",
    "pred_dist = pd.read_csv('data/pred_dist.csv')"
   ]
  },
  {
   "cell_type": "code",
   "execution_count": null,
   "metadata": {},
   "outputs": [],
   "source": [
    "cal = []\n",
    "lambd = 0.5\n",
    "alpha = 0.001\n",
    "def CL_div(i):\n",
    "    genr = movies.loc[movies['movieId']==int(i[1]), 'genres'].values[0].split('|')\n",
    "    CL = 0\n",
    "    for g in genr:\n",
    "        p = train_dist.loc[train_dist['userId']==int(i[0]), g].values\n",
    "        if p.size == 0:\n",
    "            p = 0\n",
    "        else:\n",
    "            p = p[0]\n",
    "        q = pred_dist.loc[pred_dist['userId']==int(i[0]), g].values\n",
    "        if q.size == 0:\n",
    "            q = 0\n",
    "        else:\n",
    "            q = q[0]\n",
    "        q = (1-alpha)*q+alpha*p\n",
    "        if np.isnan(p) or int(p)==0:\n",
    "            CL = q\n",
    "            continue\n",
    "        CL += p*log(p/q)\n",
    "    return abs(1.0*i[3]-lambd*CL), CL\n",
    "\n",
    "with Pool(7) as po:\n",
    "    cal = po.map(CL_div, tqdm(predictions.values))"
   ]
  },
  {
   "cell_type": "code",
   "execution_count": null,
   "metadata": {},
   "outputs": [],
   "source": [
    "cal = []\n",
    "lambd = 0.5\n",
    "alpha = 0.001\n",
    "def CL_div(i):\n",
    "    genr = movies.loc[movies['movieId']==int(i[1]), 'genres'].values[0].split('|')\n",
    "    g = genr[0]\n",
    "    p = train_dist.loc[train_dist['userId']==int(i[0]), g].values\n",
    "    if p.size == 0:\n",
    "        p = 0\n",
    "    else:\n",
    "        p = p[0]\n",
    "    q = pred_dist.loc[pred_dist['userId']==int(i[0]), g].values\n",
    "    if q.size == 0:\n",
    "        q = 0\n",
    "    else:\n",
    "        q = q[0]\n",
    "    q = (1-alpha)*q+alpha*p\n",
    "    if np.isnan(p) or int(p)==0:\n",
    "        CL = q\n",
    "    else:\n",
    "        CL = p*log(p/q)\n",
    "    return abs((lambd*i[3]+lambd*CL), CL\n",
    "\n",
    "with Pool(7) as po:\n",
    "    cal = po.map(CL_div, tqdm(predictions.values))"
   ]
  },
  {
   "cell_type": "code",
   "execution_count": null,
   "metadata": {},
   "outputs": [],
   "source": [
    "CL = []\n",
    "y_cal = []\n",
    "for i in cal:\n",
    "    CL.append(i[1])\n",
    "    y_cal.append(i[0])"
   ]
  },
  {
   "cell_type": "code",
   "execution_count": null,
   "metadata": {},
   "outputs": [],
   "source": [
    "y_cal = []\n",
    "for i in lines:\n",
    "    y_cal.append(float(i))"
   ]
  },
  {
   "cell_type": "code",
   "execution_count": null,
   "metadata": {},
   "outputs": [],
   "source": [
    "np.array(CL).mean()"
   ]
  },
  {
   "cell_type": "code",
   "execution_count": null,
   "metadata": {},
   "outputs": [],
   "source": [
    "y_pred = predictions['est'].values\n",
    "y_true = predictions['r_ui'].values"
   ]
  },
  {
   "cell_type": "code",
   "execution_count": null,
   "metadata": {},
   "outputs": [],
   "source": [
    "mse(y_true, y_pred), mse(y_true, y_cal)"
   ]
  },
  {
   "cell_type": "code",
   "execution_count": null,
   "metadata": {},
   "outputs": [],
   "source": [
    "mse(y_true, y_pred, squared=False), mse(y_true, y_cal, squared=False)"
   ]
  },
  {
   "cell_type": "code",
   "execution_count": null,
   "metadata": {},
   "outputs": [],
   "source": [
    "predictions['cal'] = y_cal"
   ]
  },
  {
   "cell_type": "code",
   "execution_count": null,
   "metadata": {},
   "outputs": [],
   "source": [
    "predictions"
   ]
  },
  {
   "cell_type": "code",
   "execution_count": null,
   "metadata": {},
   "outputs": [],
   "source": [
    "rat_cal = predictions.loc[predictions['cal'] > 3.5]\n",
    "calUsersId = list(set(rat_cal['uid'].values))"
   ]
  },
  {
   "cell_type": "code",
   "execution_count": null,
   "metadata": {},
   "outputs": [],
   "source": [
    "cal_dist = []\n",
    "def user_genre_dist(i):\n",
    "    temp = [i]\n",
    "    gen_col = dict(zip(genres, len(genres) * [0]))\n",
    "    movId = predictions.loc[predictions['uid']==i, 'iid'].values\n",
    "    for j in movId:\n",
    "        gen = movies.loc[movies['movieId']==j, 'genres'].values\n",
    "        if gen.size == 0:\n",
    "            continue\n",
    "        gen = gen[0].split('|')\n",
    "        for k in gen:\n",
    "            gen_col[k] += 1\n",
    "    temp.extend(list(gen_col.values()))\n",
    "    return temp\n",
    "        \n",
    "    \n",
    "with Pool(7) as p:\n",
    "    cal_dist = p.map(user_genre_dist, calUsersId)"
   ]
  },
  {
   "cell_type": "code",
   "execution_count": null,
   "metadata": {},
   "outputs": [],
   "source": [
    "cal_dist = pd.DataFrame(data=cal_dist, columns=col_df)"
   ]
  },
  {
   "cell_type": "code",
   "execution_count": null,
   "metadata": {},
   "outputs": [],
   "source": [
    "cal_dist"
   ]
  },
  {
   "cell_type": "code",
   "execution_count": null,
   "metadata": {},
   "outputs": [],
   "source": [
    "temp = []"
   ]
  },
  {
   "cell_type": "code",
   "execution_count": null,
   "metadata": {},
   "outputs": [],
   "source": [
    "for i in cal_dist[genres].values:\n",
    "    temp.append(i/sum(i))"
   ]
  },
  {
   "cell_type": "code",
   "execution_count": null,
   "metadata": {},
   "outputs": [],
   "source": [
    "cal_dist[genres] = temp\n",
    "cal_dist"
   ]
  },
  {
   "cell_type": "code",
   "execution_count": null,
   "metadata": {},
   "outputs": [],
   "source": [
    "cal = []\n",
    "alpha = 0.001\n",
    "def CL_div(i):\n",
    "    genr = movies.loc[movies['movieId']==int(i[1]), 'genres'].values[0].split('|')\n",
    "    CL = 0\n",
    "    for g in genr:\n",
    "        p = train_dist.loc[train_dist['userId']==int(i[0]), g].values\n",
    "        if p.size == 0:\n",
    "            p = 0\n",
    "        else:\n",
    "            p = p[0]\n",
    "        q = cal_dist.loc[cal_dist['userId']==int(i[0]), g].values\n",
    "        if q.size == 0:\n",
    "            q = 0\n",
    "        else:\n",
    "            q = q[0]\n",
    "        if np.isnan(p):\n",
    "            CL = q\n",
    "            continue\n",
    "        CL += (sqrt(p)-sqrt(q))**2\n",
    "    return 1/sqrt(2)*sqrt(CL)\n",
    "\n",
    "with Pool(7) as po:\n",
    "    CL = po.map(CL_div, predictions.values)"
   ]
  },
  {
   "cell_type": "code",
   "execution_count": null,
   "metadata": {},
   "outputs": [],
   "source": [
    "cal = []\n",
    "lambd = 0.5\n",
    "alpha = 0.001\n",
    "def CL_div(i):\n",
    "    genr = movies.loc[movies['movieId']==int(i[1]), 'genres'].values[0].split('|')\n",
    "    g = genr[0]\n",
    "    p = train_dist.loc[train_dist['userId']==int(i[0]), g].values\n",
    "    if p.size == 0:\n",
    "        p = 0\n",
    "    else:\n",
    "        p = p[0]\n",
    "    q = cal_dist.loc[cal_dist['userId']==int(i[0]), g].values\n",
    "    if q.size == 0:\n",
    "        q = 0\n",
    "    else:\n",
    "        q = q[0]\n",
    "    q = (1-alpha)*q+alpha*p\n",
    "    if np.isnan(p) or int(p)==0:\n",
    "        CL = q\n",
    "    else:\n",
    "        CL = p*log(p/q)\n",
    "    return CL\n",
    "\n",
    "with Pool(7) as po:\n",
    "    cal = po.map(CL_div, tqdm(predictions.values))"
   ]
  },
  {
   "cell_type": "code",
   "execution_count": null,
   "metadata": {},
   "outputs": [],
   "source": [
    "np.array(cal).mean()"
   ]
  },
  {
   "cell_type": "code",
   "execution_count": null,
   "metadata": {},
   "outputs": [],
   "source": [
    "us = [21 * [0]] * len(calUsersId)\n",
    "c_dist = pd.DataFrame(data=us, columns=col_df)"
   ]
  },
  {
   "cell_type": "code",
   "execution_count": null,
   "metadata": {},
   "outputs": [],
   "source": [
    "c_dist['userId'] = calUsersId"
   ]
  },
  {
   "cell_type": "code",
   "execution_count": null,
   "metadata": {},
   "outputs": [],
   "source": [
    "gen_df_cal = pd.DataFrame(data=[[0]*20], columns=genres)"
   ]
  },
  {
   "cell_type": "code",
   "execution_count": null,
   "metadata": {},
   "outputs": [],
   "source": [
    "gen_df_cal = {x: 0 for x in genres}"
   ]
  },
  {
   "cell_type": "code",
   "execution_count": null,
   "metadata": {},
   "outputs": [],
   "source": [
    "for i in tqdm(rat_cal['iid'].values):\n",
    "    gen = movies.loc[movies['movieId']==int(i), 'genres'].values[0].split('|')\n",
    "    for k in gen:\n",
    "        gen_df_cal[k] += 1"
   ]
  },
  {
   "cell_type": "code",
   "execution_count": null,
   "metadata": {},
   "outputs": [],
   "source": [
    "dist_cal = np.array(list(gen_df_cal.values())) / sum(list(gen_df_cal.values()))"
   ]
  },
  {
   "cell_type": "code",
   "execution_count": null,
   "metadata": {},
   "outputs": [],
   "source": [
    "predictions"
   ]
  },
  {
   "cell_type": "code",
   "execution_count": null,
   "metadata": {},
   "outputs": [],
   "source": []
  },
  {
   "cell_type": "code",
   "execution_count": null,
   "metadata": {},
   "outputs": [],
   "source": [
    "x = np.arange(len(genres))\n",
    "width = 0.3\n",
    "\n",
    "fig, ax = plt.subplots(figsize=(22,12))\n",
    "rects1 = ax.bar(x - 3*width/3, dist_true, width, label='True')\n",
    "rects2 = ax.bar(x, dist_rec, width, label='Predicted')\n",
    "rects3 = ax.bar(x + 3*width/3, dist_cal, width, label='Calibrated')\n",
    "\n",
    "ax.set_ylabel('Вероятность', fontsize=20)\n",
    "ax.tick_params(axis=\"y\", labelsize=20)\n",
    "ax.set_xticks(x)\n",
    "ax.set_xticklabels(genres, fontsize=20, rotation=90)\n",
    "ax.legend(fontsize=20)\n",
    "fig.tight_layout()\n",
    "\n",
    "plt.show()"
   ]
  },
  {
   "cell_type": "code",
   "execution_count": null,
   "metadata": {},
   "outputs": [],
   "source": []
  },
  {
   "cell_type": "code",
   "execution_count": null,
   "metadata": {},
   "outputs": [],
   "source": []
  },
  {
   "cell_type": "code",
   "execution_count": null,
   "metadata": {},
   "outputs": [],
   "source": []
  },
  {
   "cell_type": "code",
   "execution_count": null,
   "metadata": {},
   "outputs": [],
   "source": []
  },
  {
   "cell_type": "code",
   "execution_count": null,
   "metadata": {},
   "outputs": [],
   "source": []
  },
  {
   "cell_type": "code",
   "execution_count": null,
   "metadata": {},
   "outputs": [],
   "source": []
  },
  {
   "cell_type": "code",
   "execution_count": null,
   "metadata": {},
   "outputs": [],
   "source": [
    "tp = 0\n",
    "fp = 0\n",
    "fn = 0\n",
    "for i in predictions[['r_ui', 'est']].values:\n",
    "    if i[0] >= 4 and i[1] >= 4:\n",
    "        tp += 1\n",
    "    elif i[0] < 4 and i[1] >= 4:\n",
    "        fp += 1\n",
    "    elif i[0] >=4 and i[1] < 4:\n",
    "        fn += 1"
   ]
  },
  {
   "cell_type": "code",
   "execution_count": null,
   "metadata": {},
   "outputs": [],
   "source": [
    "prec = tp / (tp+fp)\n",
    "rec = tp / (tp+fn)\n",
    "prec, rec"
   ]
  },
  {
   "cell_type": "code",
   "execution_count": null,
   "metadata": {},
   "outputs": [],
   "source": []
  }
 ],
 "metadata": {
  "kernelspec": {
   "display_name": "Python 3",
   "language": "python",
   "name": "python3"
  },
  "language_info": {
   "codemirror_mode": {
    "name": "ipython",
    "version": 3
   },
   "file_extension": ".py",
   "mimetype": "text/x-python",
   "name": "python",
   "nbconvert_exporter": "python",
   "pygments_lexer": "ipython3",
   "version": "3.7.6"
  }
 },
 "nbformat": 4,
 "nbformat_minor": 4
}