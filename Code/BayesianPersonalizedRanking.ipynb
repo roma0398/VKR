{
 "cells": [
  {
   "cell_type": "code",
   "execution_count": 1,
   "metadata": {},
   "outputs": [],
   "source": [
    "%matplotlib inline\n",
    "%config InlineBackend.figure_format='retina'\n",
    "\n",
    "import os\n",
    "import time\n",
    "import numpy as np\n",
    "import pandas as pd\n",
    "import matplotlib.pyplot as plt\n",
    "from math import sqrt\n",
    "from scipy.sparse import csr_matrix\n",
    "from tqdm.notebook import tqdm\n",
    "from implicit.bpr import BayesianPersonalizedRanking\n",
    "from implicit.evaluation import train_test_split, precision_at_k"
   ]
  },
  {
   "cell_type": "code",
   "execution_count": 2,
   "metadata": {},
   "outputs": [
    {
     "name": "stdout",
     "output_type": "stream",
     "text": [
      "dimension:  (25000095, 4)\n"
     ]
    },
    {
     "data": {
      "text/html": [
       "<div>\n",
       "<style scoped>\n",
       "    .dataframe tbody tr th:only-of-type {\n",
       "        vertical-align: middle;\n",
       "    }\n",
       "\n",
       "    .dataframe tbody tr th {\n",
       "        vertical-align: top;\n",
       "    }\n",
       "\n",
       "    .dataframe thead th {\n",
       "        text-align: right;\n",
       "    }\n",
       "</style>\n",
       "<table border=\"1\" class=\"dataframe\">\n",
       "  <thead>\n",
       "    <tr style=\"text-align: right;\">\n",
       "      <th></th>\n",
       "      <th>userId</th>\n",
       "      <th>movieId</th>\n",
       "      <th>rating</th>\n",
       "      <th>timestamp</th>\n",
       "    </tr>\n",
       "  </thead>\n",
       "  <tbody>\n",
       "    <tr>\n",
       "      <th>0</th>\n",
       "      <td>1</td>\n",
       "      <td>296</td>\n",
       "      <td>5.0</td>\n",
       "      <td>1147880044</td>\n",
       "    </tr>\n",
       "    <tr>\n",
       "      <th>1</th>\n",
       "      <td>1</td>\n",
       "      <td>306</td>\n",
       "      <td>3.5</td>\n",
       "      <td>1147868817</td>\n",
       "    </tr>\n",
       "    <tr>\n",
       "      <th>2</th>\n",
       "      <td>1</td>\n",
       "      <td>307</td>\n",
       "      <td>5.0</td>\n",
       "      <td>1147868828</td>\n",
       "    </tr>\n",
       "    <tr>\n",
       "      <th>3</th>\n",
       "      <td>1</td>\n",
       "      <td>665</td>\n",
       "      <td>5.0</td>\n",
       "      <td>1147878820</td>\n",
       "    </tr>\n",
       "    <tr>\n",
       "      <th>4</th>\n",
       "      <td>1</td>\n",
       "      <td>899</td>\n",
       "      <td>3.5</td>\n",
       "      <td>1147868510</td>\n",
       "    </tr>\n",
       "  </tbody>\n",
       "</table>\n",
       "</div>"
      ],
      "text/plain": [
       "   userId  movieId  rating   timestamp\n",
       "0       1      296     5.0  1147880044\n",
       "1       1      306     3.5  1147868817\n",
       "2       1      307     5.0  1147868828\n",
       "3       1      665     5.0  1147878820\n",
       "4       1      899     3.5  1147868510"
      ]
     },
     "execution_count": 2,
     "metadata": {},
     "output_type": "execute_result"
    }
   ],
   "source": [
    "data_dir = 'data/25m'\n",
    "\n",
    "# we are working with movie data, but we'll name\n",
    "# the movie as item to make it more generic to\n",
    "# all use-cases\n",
    "user_col = 'userId'\n",
    "item_col = 'movieId'\n",
    "value_col = 'rating'\n",
    "time_col = 'timestamp'\n",
    "\n",
    "rating_path = os.path.join(data_dir, 'ratings.csv')\n",
    "df_raw = pd.read_csv(rating_path)\n",
    "print('dimension: ', df_raw.shape)\n",
    "df_raw.head()"
   ]
  },
  {
   "cell_type": "code",
   "execution_count": 3,
   "metadata": {},
   "outputs": [
    {
     "name": "stdout",
     "output_type": "stream",
     "text": [
      "dimension:  (57361, 3)\n"
     ]
    },
    {
     "data": {
      "text/html": [
       "<div>\n",
       "<style scoped>\n",
       "    .dataframe tbody tr th:only-of-type {\n",
       "        vertical-align: middle;\n",
       "    }\n",
       "\n",
       "    .dataframe tbody tr th {\n",
       "        vertical-align: top;\n",
       "    }\n",
       "\n",
       "    .dataframe thead th {\n",
       "        text-align: right;\n",
       "    }\n",
       "</style>\n",
       "<table border=\"1\" class=\"dataframe\">\n",
       "  <thead>\n",
       "    <tr style=\"text-align: right;\">\n",
       "      <th></th>\n",
       "      <th>movieId</th>\n",
       "      <th>title</th>\n",
       "      <th>genres</th>\n",
       "    </tr>\n",
       "  </thead>\n",
       "  <tbody>\n",
       "    <tr>\n",
       "      <th>0</th>\n",
       "      <td>1</td>\n",
       "      <td>Toy Story (1995)</td>\n",
       "      <td>Adventure|Animation|Children|Comedy|Fantasy</td>\n",
       "    </tr>\n",
       "    <tr>\n",
       "      <th>1</th>\n",
       "      <td>2</td>\n",
       "      <td>Jumanji (1995)</td>\n",
       "      <td>Adventure|Children|Fantasy</td>\n",
       "    </tr>\n",
       "    <tr>\n",
       "      <th>2</th>\n",
       "      <td>3</td>\n",
       "      <td>Grumpier Old Men (1995)</td>\n",
       "      <td>Comedy|Romance</td>\n",
       "    </tr>\n",
       "    <tr>\n",
       "      <th>3</th>\n",
       "      <td>4</td>\n",
       "      <td>Waiting to Exhale (1995)</td>\n",
       "      <td>Comedy|Drama|Romance</td>\n",
       "    </tr>\n",
       "    <tr>\n",
       "      <th>4</th>\n",
       "      <td>5</td>\n",
       "      <td>Father of the Bride Part II (1995)</td>\n",
       "      <td>Comedy</td>\n",
       "    </tr>\n",
       "  </tbody>\n",
       "</table>\n",
       "</div>"
      ],
      "text/plain": [
       "   movieId                               title  \\\n",
       "0        1                    Toy Story (1995)   \n",
       "1        2                      Jumanji (1995)   \n",
       "2        3             Grumpier Old Men (1995)   \n",
       "3        4            Waiting to Exhale (1995)   \n",
       "4        5  Father of the Bride Part II (1995)   \n",
       "\n",
       "                                        genres  \n",
       "0  Adventure|Animation|Children|Comedy|Fantasy  \n",
       "1                   Adventure|Children|Fantasy  \n",
       "2                               Comedy|Romance  \n",
       "3                         Comedy|Drama|Romance  \n",
       "4                                       Comedy  "
      ]
     },
     "execution_count": 3,
     "metadata": {},
     "output_type": "execute_result"
    }
   ],
   "source": [
    "title_col = 'title'\n",
    "genre_col = 'genres'\n",
    "\n",
    "item_info_path = os.path.join(data_dir, 'movies.csv')\n",
    "df_item = pd.read_csv(item_info_path)\n",
    "df_item = df_item[df_item[genre_col] != '(no genres listed)']\n",
    "print('dimension: ', df_item.shape)\n",
    "df_item.head()"
   ]
  },
  {
   "cell_type": "code",
   "execution_count": 4,
   "metadata": {},
   "outputs": [
    {
     "data": {
      "text/plain": [
       "Toy Story (1995)"
      ]
     },
     "execution_count": 4,
     "metadata": {},
     "output_type": "execute_result"
    }
   ],
   "source": [
    "class Item:\n",
    "    \"\"\"\n",
    "    Data holder for our item.\n",
    "    \n",
    "    Parameters\n",
    "    ----------\n",
    "    id : int\n",
    "  \n",
    "    title : str\n",
    "\n",
    "    genre : dict[str, float]\n",
    "        The item/movie's genre distribution, where the key\n",
    "        represents the genre and value corresponds to the\n",
    "        ratio of that genre.\n",
    "\n",
    "    score : float\n",
    "        Score for the item, potentially generated by some\n",
    "        recommendation algorithm.\n",
    "    \"\"\"\n",
    "    def __init__(self, _id, title, genres, score=None):\n",
    "        self.id = _id\n",
    "        self.title = title\n",
    "        self.score = score\n",
    "        self.genres = genres\n",
    "\n",
    "    def __repr__(self):\n",
    "        return self.title\n",
    "\n",
    "\n",
    "def create_item_mapping(df_item, item_col, title_col, genre_col):\n",
    "    \"\"\"Create a dictionary of item id to Item lookup.\"\"\"\n",
    "    item_mapping = {}\n",
    "    for row in df_item.itertuples():\n",
    "        item_id = getattr(row, item_col)\n",
    "        item_title = getattr(row, title_col)\n",
    "        item_genre = getattr(row, genre_col)\n",
    "\n",
    "        splitted = item_genre.split('|')\n",
    "        genre_ratio = 1. / len(splitted)\n",
    "        item_genre = {genre: genre_ratio for genre in splitted}\n",
    "\n",
    "        item = Item(item_id, item_title, item_genre)\n",
    "        item_mapping[item_id] = item\n",
    "\n",
    "    return item_mapping\n",
    "    \n",
    "\n",
    "item_mapping = create_item_mapping(df_item, item_col, title_col, genre_col)\n",
    "item_mapping[1]"
   ]
  },
  {
   "cell_type": "code",
   "execution_count": 5,
   "metadata": {},
   "outputs": [
    {
     "name": "stdout",
     "output_type": "stream",
     "text": [
      "dimension:  (12442311, 6)\n"
     ]
    },
    {
     "data": {
      "text/html": [
       "<div>\n",
       "<style scoped>\n",
       "    .dataframe tbody tr th:only-of-type {\n",
       "        vertical-align: middle;\n",
       "    }\n",
       "\n",
       "    .dataframe tbody tr th {\n",
       "        vertical-align: top;\n",
       "    }\n",
       "\n",
       "    .dataframe thead th {\n",
       "        text-align: right;\n",
       "    }\n",
       "</style>\n",
       "<table border=\"1\" class=\"dataframe\">\n",
       "  <thead>\n",
       "    <tr style=\"text-align: right;\">\n",
       "      <th></th>\n",
       "      <th>userId</th>\n",
       "      <th>movieId</th>\n",
       "      <th>rating</th>\n",
       "      <th>timestamp</th>\n",
       "      <th>title</th>\n",
       "      <th>genres</th>\n",
       "    </tr>\n",
       "  </thead>\n",
       "  <tbody>\n",
       "    <tr>\n",
       "      <th>0</th>\n",
       "      <td>1</td>\n",
       "      <td>296</td>\n",
       "      <td>5.0</td>\n",
       "      <td>1147880044</td>\n",
       "      <td>Pulp Fiction (1994)</td>\n",
       "      <td>Comedy|Crime|Drama|Thriller</td>\n",
       "    </tr>\n",
       "    <tr>\n",
       "      <th>1</th>\n",
       "      <td>3</td>\n",
       "      <td>296</td>\n",
       "      <td>5.0</td>\n",
       "      <td>1439474476</td>\n",
       "      <td>Pulp Fiction (1994)</td>\n",
       "      <td>Comedy|Crime|Drama|Thriller</td>\n",
       "    </tr>\n",
       "    <tr>\n",
       "      <th>2</th>\n",
       "      <td>4</td>\n",
       "      <td>296</td>\n",
       "      <td>4.0</td>\n",
       "      <td>1573938898</td>\n",
       "      <td>Pulp Fiction (1994)</td>\n",
       "      <td>Comedy|Crime|Drama|Thriller</td>\n",
       "    </tr>\n",
       "    <tr>\n",
       "      <th>3</th>\n",
       "      <td>5</td>\n",
       "      <td>296</td>\n",
       "      <td>4.0</td>\n",
       "      <td>830786155</td>\n",
       "      <td>Pulp Fiction (1994)</td>\n",
       "      <td>Comedy|Crime|Drama|Thriller</td>\n",
       "    </tr>\n",
       "    <tr>\n",
       "      <th>4</th>\n",
       "      <td>7</td>\n",
       "      <td>296</td>\n",
       "      <td>4.0</td>\n",
       "      <td>835444730</td>\n",
       "      <td>Pulp Fiction (1994)</td>\n",
       "      <td>Comedy|Crime|Drama|Thriller</td>\n",
       "    </tr>\n",
       "  </tbody>\n",
       "</table>\n",
       "</div>"
      ],
      "text/plain": [
       "  userId movieId  rating   timestamp                title  \\\n",
       "0      1     296     5.0  1147880044  Pulp Fiction (1994)   \n",
       "1      3     296     5.0  1439474476  Pulp Fiction (1994)   \n",
       "2      4     296     4.0  1573938898  Pulp Fiction (1994)   \n",
       "3      5     296     4.0   830786155  Pulp Fiction (1994)   \n",
       "4      7     296     4.0   835444730  Pulp Fiction (1994)   \n",
       "\n",
       "                        genres  \n",
       "0  Comedy|Crime|Drama|Thriller  \n",
       "1  Comedy|Crime|Drama|Thriller  \n",
       "2  Comedy|Crime|Drama|Thriller  \n",
       "3  Comedy|Crime|Drama|Thriller  \n",
       "4  Comedy|Crime|Drama|Thriller  "
      ]
     },
     "execution_count": 5,
     "metadata": {},
     "output_type": "execute_result"
    }
   ],
   "source": [
    "# convert to implicit feedback data and filter out\n",
    "# movies that doesn't have any genre\n",
    "df_rating = df_raw[df_raw[value_col] >= 4.0].copy()\n",
    "df_rating = df_rating.merge(df_item, on=item_col)\n",
    "\n",
    "for col in (user_col, item_col):\n",
    "    df_rating[col] = df_rating[col].astype('category')\n",
    "\n",
    "# the original id are converted to indices to create\n",
    "# the sparse matrix, so we keep track of the mappings here\n",
    "# e.g. a userId 1 will correspond to index 0 in our sparse matrix\n",
    "index2user = df_rating[user_col].cat.categories\n",
    "index2item = df_rating[item_col].cat.categories\n",
    "\n",
    "print('dimension: ', df_rating.shape)\n",
    "df_rating.head()"
   ]
  },
  {
   "cell_type": "code",
   "execution_count": 6,
   "metadata": {},
   "outputs": [
    {
     "data": {
      "text/plain": [
       "<162342x38715 sparse matrix of type '<class 'numpy.float32'>'\n",
       "\twith 12442311 stored elements in Compressed Sparse Row format>"
      ]
     },
     "execution_count": 6,
     "metadata": {},
     "output_type": "execute_result"
    }
   ],
   "source": [
    "def create_user_item_csr_matrix(data, user_col, item_col, value_col):\n",
    "    rows = data[user_col].cat.codes\n",
    "    cols = data[item_col].cat.codes\n",
    "    values = data[value_col].astype(np.float32)\n",
    "    return csr_matrix((values, (rows, cols)))\n",
    "\n",
    "\n",
    "user_item = create_user_item_csr_matrix(df_rating, user_col, item_col, value_col)\n",
    "user_item"
   ]
  },
  {
   "cell_type": "code",
   "execution_count": 15,
   "metadata": {},
   "outputs": [
    {
     "data": {
      "text/plain": [
       "<162342x38715 sparse matrix of type '<class 'numpy.float32'>'\n",
       "\twith 9953124 stored elements in Compressed Sparse Row format>"
      ]
     },
     "execution_count": 15,
     "metadata": {},
     "output_type": "execute_result"
    }
   ],
   "source": [
    "np.random.seed(1234)\n",
    "user_item_train, user_item_test = train_test_split(user_item, train_percentage=0.8)\n",
    "user_item_train"
   ]
  },
  {
   "cell_type": "code",
   "execution_count": 16,
   "metadata": {},
   "outputs": [
    {
     "data": {
      "text/plain": [
       "<162342x38715 sparse matrix of type '<class 'numpy.float32'>'\n",
       "\twith 2489187 stored elements in Compressed Sparse Row format>"
      ]
     },
     "execution_count": 16,
     "metadata": {},
     "output_type": "execute_result"
    }
   ],
   "source": [
    "user_item_test"
   ]
  },
  {
   "cell_type": "code",
   "execution_count": 17,
   "metadata": {},
   "outputs": [
    {
     "data": {
      "application/vnd.jupyter.widget-view+json": {
       "model_id": "56b9d04bae0747baa160174384b52d4c",
       "version_major": 2,
       "version_minor": 0
      },
      "text/plain": [
       "HBox(children=(FloatProgress(value=0.0, max=70.0), HTML(value='')))"
      ]
     },
     "metadata": {},
     "output_type": "display_data"
    },
    {
     "name": "stdout",
     "output_type": "stream",
     "text": [
      "\n"
     ]
    }
   ],
   "source": [
    "# the model expects item-user sparse matrix,\n",
    "# i.e. the rows represents item and the column\n",
    "# represents users\n",
    "np.random.seed(1234)\n",
    "bpr = BayesianPersonalizedRanking(iterations=70)\n",
    "bpr.fit(user_item_train.T.tocsr())"
   ]
  },
  {
   "cell_type": "code",
   "execution_count": 18,
   "metadata": {},
   "outputs": [
    {
     "data": {
      "application/vnd.jupyter.widget-view+json": {
       "model_id": "ba9b156f6bb24dde8931b9ef22164c0e",
       "version_major": 2,
       "version_minor": 0
      },
      "text/plain": [
       "HBox(children=(FloatProgress(value=0.0, max=162342.0), HTML(value='')))"
      ]
     },
     "metadata": {},
     "output_type": "display_data"
    },
    {
     "name": "stdout",
     "output_type": "stream",
     "text": [
      "\n"
     ]
    },
    {
     "data": {
      "text/plain": [
       "0.1622381841382612"
      ]
     },
     "execution_count": 18,
     "metadata": {},
     "output_type": "execute_result"
    }
   ],
   "source": [
    "precision = precision_at_k(bpr, user_item_train, user_item_test, K=10)\n",
    "precision"
   ]
  },
  {
   "cell_type": "code",
   "execution_count": 19,
   "metadata": {},
   "outputs": [
    {
     "data": {
      "text/plain": [
       "<162342x38715 sparse matrix of type '<class 'numpy.float32'>'\n",
       "\twith 2489187 stored elements in Compressed Sparse Row format>"
      ]
     },
     "execution_count": 19,
     "metadata": {},
     "output_type": "execute_result"
    }
   ],
   "source": [
    "user_item_test"
   ]
  },
  {
   "cell_type": "code",
   "execution_count": null,
   "metadata": {},
   "outputs": [],
   "source": []
  },
  {
   "cell_type": "code",
   "execution_count": null,
   "metadata": {},
   "outputs": [],
   "source": []
  },
  {
   "cell_type": "code",
   "execution_count": 20,
   "metadata": {},
   "outputs": [
    {
     "data": {
      "text/plain": [
       "[Apollo 13 (1995),\n",
       " Rob Roy (1995),\n",
       " French Kiss (1995),\n",
       " Star Wars: Episode IV - A New Hope (1977),\n",
       " Shawshank Redemption, The (1994),\n",
       " Tommy Boy (1995),\n",
       " Clear and Present Danger (1994),\n",
       " Forrest Gump (1994),\n",
       " Lion King, The (1994),\n",
       " Fugitive, The (1993)]"
      ]
     },
     "execution_count": 20,
     "metadata": {},
     "output_type": "execute_result"
    }
   ],
   "source": [
    "# look a the first user\n",
    "user_id = 1\n",
    "\n",
    "# find the index that the user interacted with,\n",
    "# we can then map this to a list of Item, note that we need to first\n",
    "# map the recommended index to the actual itemId/movieId first\n",
    "interacted_ids = user_item_train[user_id].nonzero()[1]\n",
    "interacted_items = [item_mapping[index2item[index]] for index in interacted_ids]\n",
    "interacted_items[:10]"
   ]
  },
  {
   "cell_type": "code",
   "execution_count": 21,
   "metadata": {},
   "outputs": [
    {
     "data": {
      "text/plain": [
       "[(4414, 3.749813),\n",
       " (5494, 3.603307),\n",
       " (2403, 3.5894835),\n",
       " (5137, 3.5491061),\n",
       " (6398, 3.4769351),\n",
       " (3927, 3.4084716),\n",
       " (7755, 3.397572),\n",
       " (3797, 3.3497553),\n",
       " (6596, 3.2890315),\n",
       " (4413, 3.2531328)]"
      ]
     },
     "execution_count": 21,
     "metadata": {},
     "output_type": "execute_result"
    }
   ],
   "source": [
    "# it returns the recommended index and their corresponding score\n",
    "topn = 50\n",
    "reco = bpr.recommend(user_id, user_item_train, N=topn)\n",
    "reco[:10]"
   ]
  },
  {
   "cell_type": "code",
   "execution_count": 22,
   "metadata": {},
   "outputs": [
    {
     "data": {
      "text/plain": [
       "[Man from Snowy River, The (1982),\n",
       " Jonah: A VeggieTales Movie (2002),\n",
       " October Sky (1999),\n",
       " Rookie, The (2002),\n",
       " Seabiscuit (2003),\n",
       " Gettysburg (1993),\n",
       " Memphis Belle (1990),\n",
       " Remember the Titans (2000),\n",
       " Luther (2003),\n",
       " Return to Snowy River (a.k.a. The Man From Snowy River II) (1988)]"
      ]
     },
     "execution_count": 22,
     "metadata": {},
     "output_type": "execute_result"
    }
   ],
   "source": [
    "# map the index to Item\n",
    "reco_items = [item_mapping[index2item[index]] for index, _ in reco]\n",
    "reco_items[:10]"
   ]
  },
  {
   "cell_type": "code",
   "execution_count": 23,
   "metadata": {},
   "outputs": [],
   "source": [
    "def compute_genre_distr(items):\n",
    "    \"\"\"Compute the genre distribution for a given list of Items.\"\"\"\n",
    "    distr = {}\n",
    "    for item in items:\n",
    "        for genre, score in item.genres.items():\n",
    "            genre_score = distr.get(genre, 0.)\n",
    "            distr[genre] = genre_score + score\n",
    "\n",
    "    # we normalize the summed up probability so it sums up to 1\n",
    "    # and round it to three decimal places, adding more precision\n",
    "    # doesn't add much value and clutters the output\n",
    "    for item, genre_score in distr.items():\n",
    "        normed_genre_score = round(genre_score / len(items), 3)\n",
    "        distr[item] = normed_genre_score\n",
    "\n",
    "    return distr"
   ]
  },
  {
   "cell_type": "code",
   "execution_count": 24,
   "metadata": {},
   "outputs": [
    {
     "data": {
      "text/plain": [
       "{'Adventure': 0.147,\n",
       " 'Drama': 0.226,\n",
       " 'IMAX': 0.008,\n",
       " 'Action': 0.103,\n",
       " 'Romance': 0.073,\n",
       " 'War': 0.026,\n",
       " 'Comedy': 0.114,\n",
       " 'Sci-Fi': 0.058,\n",
       " 'Crime': 0.022,\n",
       " 'Thriller': 0.075,\n",
       " 'Animation': 0.021,\n",
       " 'Children': 0.037,\n",
       " 'Musical': 0.015,\n",
       " 'Fantasy': 0.046,\n",
       " 'Western': 0.005,\n",
       " 'Horror': 0.008,\n",
       " 'Mystery': 0.015}"
      ]
     },
     "execution_count": 24,
     "metadata": {},
     "output_type": "execute_result"
    }
   ],
   "source": [
    "# we can check that the probability does in fact add up to 1\n",
    "# np.array(list(interacted_distr.values())).sum()\n",
    "interacted_distr = compute_genre_distr(interacted_items)\n",
    "interacted_distr"
   ]
  },
  {
   "cell_type": "code",
   "execution_count": 40,
   "metadata": {},
   "outputs": [],
   "source": [
    "user_id = 0\n",
    "summ = 0\n",
    "for user_id in range(2400):\n",
    "    \n",
    "# find the index that the user interacted with,\n",
    "# we can then map this to a list of Item, note that we need to first\n",
    "# map the recommended index to the actual itemId/movieId first\n",
    "    interacted_ids = user_item_train[user_id].nonzero()[1]\n",
    "    interacted_items = [item_mapping[index2item[index]] for index in interacted_ids]\n",
    "    interacted_items[:10]\n",
    "    interacted_distr = compute_genre_distr(interacted_items)\n",
    "    import operator\n",
    "    n = 0\n",
    "    p = interacted_distr.copy()\n",
    "    r = {x:0 for x in interacted_distr.keys()}\n",
    "    while n < 50:\n",
    "        m = max(p.items(), key=operator.itemgetter(1))[0]\n",
    "        r[m] += 1\n",
    "        n += 1\n",
    "        p[m] = p[m] / (2*r[m]+1)\n",
    "        \n",
    "    for i, j in r.items():\n",
    "        r[i] = j/50\n",
    "        \n",
    "    summ += compute_kl_divergence(interacted_distr, r)"
   ]
  },
  {
   "cell_type": "code",
   "execution_count": 41,
   "metadata": {},
   "outputs": [
    {
     "data": {
      "text/plain": [
       "0.41939682758907293"
      ]
     },
     "execution_count": 41,
     "metadata": {},
     "output_type": "execute_result"
    }
   ],
   "source": [
    "summ / 2400"
   ]
  },
  {
   "cell_type": "code",
   "execution_count": 29,
   "metadata": {},
   "outputs": [
    {
     "data": {
      "text/plain": [
       "{'Drama': 0.414,\n",
       " 'Romance': 0.073,\n",
       " 'Western': 0.028,\n",
       " 'Animation': 0.017,\n",
       " 'Children': 0.043,\n",
       " 'Musical': 0.007,\n",
       " 'War': 0.063,\n",
       " 'Action': 0.105,\n",
       " 'Adventure': 0.075,\n",
       " 'Comedy': 0.052,\n",
       " 'Thriller': 0.014,\n",
       " 'Sci-Fi': 0.02,\n",
       " 'Documentary': 0.02,\n",
       " 'Fantasy': 0.032,\n",
       " 'Crime': 0.013,\n",
       " 'IMAX': 0.01,\n",
       " 'Mystery': 0.014}"
      ]
     },
     "execution_count": 29,
     "metadata": {},
     "output_type": "execute_result"
    }
   ],
   "source": [
    "reco_distr = compute_genre_distr(reco_items)\n",
    "reco_distr"
   ]
  },
  {
   "cell_type": "code",
   "execution_count": 30,
   "metadata": {},
   "outputs": [
    {
     "data": {
      "image/png": "[encoded data removed]",
      "text/plain": [
       "<Figure size 720x576 with 1 Axes>"
      ]
     },
     "metadata": {
      "image/png": {
       "height": 485,
       "width": 818
      },
      "needs_background": "light"
     },
     "output_type": "display_data"
    }
   ],
   "source": [
    "# change default style figure and font size\n",
    "plt.rcParams['figure.figsize'] = 10, 8\n",
    "plt.rcParams['font.size'] = 12\n",
    "\n",
    "\n",
    "def distr_comparison_plot(interacted_distr, reco_distr, width=0.3):\n",
    "    \n",
    "    # the value will automatically be converted to a column with the\n",
    "    # column name of '0'\n",
    "    interacted = pd.DataFrame.from_dict(interacted_distr, orient='index')\n",
    "    reco = pd.DataFrame.from_dict(reco_distr, orient='index')\n",
    "    df = interacted.join(reco, how='outer', lsuffix='_interacted')\n",
    "\n",
    "    n = df.shape[0]\n",
    "    index = np.arange(n)\n",
    "    plt.barh(index, df['0_interacted'], height=width, label='interacted distr')\n",
    "    plt.barh(index + width, df['0'], height=width, label='reco distr')\n",
    "    plt.yticks(index, df.index)\n",
    "    plt.legend(bbox_to_anchor=(1, 0.5))\n",
    "    plt.title('Genre Distribution between User Historical Interaction v.s. Recommendation')\n",
    "    plt.ylabel('Genre')\n",
    "    plt.show()\n",
    "    \n",
    "    \n",
    "distr_comparison_plot(interacted_distr, reco_distr)"
   ]
  },
  {
   "cell_type": "code",
   "execution_count": 31,
   "metadata": {},
   "outputs": [
    {
     "data": {
      "text/plain": [
       "{'Drama': 0.314,\n",
       " 'Romance': 0.131,\n",
       " 'Comedy': 0.222,\n",
       " 'Adventure': 0.025,\n",
       " 'Fantasy': 0.039,\n",
       " 'Mystery': 0.024,\n",
       " 'Sci-Fi': 0.02,\n",
       " 'Thriller': 0.048,\n",
       " 'Crime': 0.062,\n",
       " 'Action': 0.04,\n",
       " 'Documentary': 0.021,\n",
       " 'Children': 0.023,\n",
       " 'Animation': 0.01,\n",
       " 'Musical': 0.01,\n",
       " 'Film-Noir': 0.01}"
      ]
     },
     "execution_count": 31,
     "metadata": {},
     "output_type": "execute_result"
    }
   ],
   "source": [
    "interacted_distr"
   ]
  },
  {
   "cell_type": "code",
   "execution_count": 32,
   "metadata": {},
   "outputs": [
    {
     "data": {
      "text/plain": [
       "0.614195752019819"
      ]
     },
     "execution_count": 32,
     "metadata": {},
     "output_type": "execute_result"
    }
   ],
   "source": [
    "def compute_kl_divergence(interacted_distr, reco_distr, alpha=0.02):\n",
    "    \"\"\"\n",
    "    KL (p || q), the lower the better.\n",
    "\n",
    "    alpha is not really a tuning parameter, it's just there to make the\n",
    "    computation more numerically stable.\n",
    "    \"\"\"\n",
    "    kl_div = 0.\n",
    "    for genre, score in interacted_distr.items():\n",
    "        reco_score = reco_distr.get(genre, 0.)\n",
    "        reco_score = (1 - alpha) * reco_score + alpha * score\n",
    "        if reco_score==0:\n",
    "            kl_div += score\n",
    "        else:\n",
    "            kl_div += score * np.log2(score / reco_score)\n",
    "\n",
    "    return kl_div\n",
    "\n",
    "\n",
    "compute_kl_divergence(interacted_distr, reco_distr)"
   ]
  },
  {
   "cell_type": "code",
   "execution_count": 33,
   "metadata": {},
   "outputs": [],
   "source": [
    "def generate_item_candidates(model, user_item, user_id, index2item, item_mapping,\n",
    "                             filter_already_liked_items=True):\n",
    "    \"\"\"\n",
    "    For a given user, generate the list of items that we can recommend, during this\n",
    "    step, we will also attach the recommender's score to each item.\n",
    "    \"\"\"\n",
    "    n_items = user_item.shape[1]\n",
    "    \n",
    "    # this is how implicit's matrix factorization generates\n",
    "    # the scores for each item for a given user, modify this\n",
    "    # part of the logic if we were to use a completely different\n",
    "    # algorithm to generate the ranked items\n",
    "    user_factor = model.user_factors[user_id]\n",
    "    scores = model.item_factors.dot(user_factor)\n",
    "\n",
    "    liked = set()\n",
    "    if filter_already_liked_items:\n",
    "        liked = set(user_item[user_id].indices)\n",
    "\n",
    "    item_ids = set(np.arange(n_items))\n",
    "    item_ids -= liked\n",
    "\n",
    "    items = []\n",
    "    for item_id in item_ids:\n",
    "        item = item_mapping[index2item[item_id]]\n",
    "        item.score = scores[item_id]\n",
    "        items.append(item)\n",
    "\n",
    "    return items"
   ]
  },
  {
   "cell_type": "code",
   "execution_count": 34,
   "metadata": {},
   "outputs": [
    {
     "name": "stdout",
     "output_type": "stream",
     "text": [
      "number of item candidates: 38667\n"
     ]
    },
    {
     "data": {
      "text/plain": [
       "[Toy Story (1995),\n",
       " Jumanji (1995),\n",
       " Grumpier Old Men (1995),\n",
       " Waiting to Exhale (1995),\n",
       " Father of the Bride Part II (1995)]"
      ]
     },
     "execution_count": 34,
     "metadata": {},
     "output_type": "execute_result"
    }
   ],
   "source": [
    "items = generate_item_candidates(bpr, user_item_train, user_id, index2item, item_mapping)\n",
    "print('number of item candidates:', len(items))\n",
    "items[:5]"
   ]
  },
  {
   "cell_type": "code",
   "execution_count": 35,
   "metadata": {},
   "outputs": [],
   "source": [
    "def compute_utility(reco_items, interacted_distr, lmbda=0.5):\n",
    "    \"\"\"\n",
    "    Our objective function for computing the utility score for\n",
    "    the list of recommended items.\n",
    "\n",
    "    lmbda : float, 0.0 ~ 1.0, default 0.5\n",
    "        Lambda term controls the score and calibration tradeoff,\n",
    "        the higher the lambda the higher the resulting recommendation\n",
    "        will be calibrated. Lambda is keyword in Python, so it's\n",
    "        lmbda instead ^^\n",
    "    \"\"\"\n",
    "    reco_distr = compute_genre_distr(reco_items)\n",
    "    kl_div = compute_kl_divergence(interacted_distr, reco_distr)\n",
    "\n",
    "    total_score = 0.0\n",
    "    for item in reco_items:\n",
    "        total_score += item.score\n",
    "    \n",
    "    # kl divergence is the lower the better, while score is\n",
    "    # the higher the better so remember to negate it in the calculation\n",
    "    utility = (1 - lmbda) * total_score - lmbda * kl_div\n",
    "    return utility"
   ]
  },
  {
   "cell_type": "code",
   "execution_count": 36,
   "metadata": {},
   "outputs": [],
   "source": [
    "def calib_recommend(items, interacted_distr, topn, lmbda=0.5):\n",
    "    \"\"\"\n",
    "    start with an empty recommendation list,\n",
    "    loop over the topn cardinality, during each iteration\n",
    "    update the list with the item that maximizes the utility function.\n",
    "    \"\"\"\n",
    "    calib_reco = []\n",
    "    for _ in range(topn):\n",
    "        max_utility = -np.inf\n",
    "        for item in items:\n",
    "            if item in calib_reco:\n",
    "                continue\n",
    "\n",
    "            utility = compute_utility(calib_reco + [item], interacted_distr, lmbda)\n",
    "            if utility > max_utility:\n",
    "                max_utility = utility\n",
    "                best_item = item\n",
    "\n",
    "        calib_reco.append(best_item)\n",
    "        \n",
    "    return calib_reco"
   ]
  },
  {
   "cell_type": "code",
   "execution_count": 37,
   "metadata": {},
   "outputs": [
    {
     "name": "stdout",
     "output_type": "stream",
     "text": [
      "elapsed:  92.72657990455627\n"
     ]
    },
    {
     "data": {
      "text/plain": [
       "[Once Upon a Time (2008),\n",
       " Princes and Princesses (2000),\n",
       " Mary's Land (2013),\n",
       " I Like It Like That (1994),\n",
       " Blue in the Face (1995),\n",
       " Kansas City (1996),\n",
       " Bitter Moon (1992),\n",
       " Love & Human Remains (1993),\n",
       " Crow, The (1994),\n",
       " 1-900 (06) (1994),\n",
       " Flower of My Secret, The (La flor de mi secreto) (1995),\n",
       " Even Cowgirls Get the Blues (1993),\n",
       " Super Mario Bros. (1993),\n",
       " Nadja (1994),\n",
       " Amateur (1994),\n",
       " In the Bleak Midwinter (1995),\n",
       " Sexual Life of the Belgians, The (Vie sexuelle des Belges 1950-1978, La) (1994),\n",
       " Clockers (1995),\n",
       " Crooklyn (1994),\n",
       " Awfully Big Adventure, An (1995),\n",
       " French Twist (Gazon maudit) (1995),\n",
       " Last Action Hero (1993),\n",
       " Double Happiness (1994),\n",
       " Nina Takes a Lover (1994),\n",
       " Strange Days (1995),\n",
       " Denise Calls Up (1995),\n",
       " James and the Giant Peach (1996),\n",
       " Funeral, The (1996),\n",
       " Death and the Maiden (1994),\n",
       " Heidi Fleiss: Hollywood Madam (1995),\n",
       " Love and Other Catastrophes (1996),\n",
       " Jeffrey (1995),\n",
       " I Shot Andy Warhol (1996),\n",
       " Bullets Over Broadway (1994),\n",
       " Thieves (Voleurs, Les) (1996),\n",
       " Being Human (1993),\n",
       " Secret of Roan Inish, The (1994),\n",
       " Boxing Helena (1993),\n",
       " Ready to Wear (Pret-A-Porter) (1994),\n",
       " Crossing Guard, The (1995),\n",
       " Shanghai Triad (Yao a yao yao dao waipo qiao) (1995),\n",
       " Angels and Insects (1995),\n",
       " Reckless (1995),\n",
       " Smoke (1995),\n",
       " Star Maker, The (Uomo delle stelle, L') (1995),\n",
       " Barb Wire (1996),\n",
       " Secret Adventures of Tom Thumb, The (1993),\n",
       " Go Fish (1994),\n",
       " Stuart Saves His Family (1995),\n",
       " Little Odessa (1994)]"
      ]
     },
     "execution_count": 37,
     "metadata": {},
     "output_type": "execute_result"
    }
   ],
   "source": [
    "start = time.time()\n",
    "calib_reco_items = calib_recommend(items, interacted_distr, topn, lmbda=0.99)\n",
    "elapsed = time.time() - start\n",
    "print('elapsed: ', elapsed)\n",
    "calib_reco_items"
   ]
  },
  {
   "cell_type": "code",
   "execution_count": 38,
   "metadata": {},
   "outputs": [
    {
     "name": "stdout",
     "output_type": "stream",
     "text": [
      "\n",
      "original reco kl-divergence score: 0.614195752019819\n",
      "calibrated reco kl-divergence score: 0.006368205893693317\n"
     ]
    },
    {
     "data": {
      "image/png": "[encoded data removed]",
      "text/plain": [
       "<Figure size 720x576 with 1 Axes>"
      ]
     },
     "metadata": {
      "image/png": {
       "height": 485,
       "width": 818
      },
      "needs_background": "light"
     },
     "output_type": "display_data"
    }
   ],
   "source": [
    "calib_reco_distr = compute_genre_distr(calib_reco_items)\n",
    "calib_reco_kl_div = compute_kl_divergence(interacted_distr, calib_reco_distr)\n",
    "reco_kl_div = compute_kl_divergence(interacted_distr, reco_distr)\n",
    "print('\\noriginal reco kl-divergence score:', reco_kl_div)\n",
    "print('calibrated reco kl-divergence score:', calib_reco_kl_div)\n",
    "\n",
    "distr_comparison_plot(interacted_distr, calib_reco_distr)"
   ]
  },
  {
   "cell_type": "code",
   "execution_count": 39,
   "metadata": {},
   "outputs": [],
   "source": [
    "def precision(user_item, user_id, reco_items, index2item):\n",
    "    indptr = user_item.indptr\n",
    "    indices = user_item.indices\n",
    "\n",
    "    reco_ids = {item.id for item in reco_items}\n",
    "    likes = {index2item[indices[i]] for i in range(indptr[user_id], indptr[user_id + 1])}\n",
    "\n",
    "    relevant = len(reco_ids & likes)\n",
    "    total = min(len(reco_items), len(likes))\n",
    "    return relevant / total"
   ]
  },
  {
   "cell_type": "code",
   "execution_count": 42,
   "metadata": {},
   "outputs": [
    {
     "name": "stdout",
     "output_type": "stream",
     "text": [
      "original reco precision score: 0.0\n",
      "calibrated reco precision score: 0.0\n"
     ]
    }
   ],
   "source": [
    "reco_precision = precision(user_item_test, user_id, reco_items, index2item)\n",
    "calib_reco_precision = precision(user_item_test, user_id, calib_reco_items, index2item)\n",
    "print('original reco precision score:', reco_precision)\n",
    "print('calibrated reco precision score:', calib_reco_precision)"
   ]
  },
  {
   "cell_type": "code",
   "execution_count": 44,
   "metadata": {},
   "outputs": [
    {
     "name": "stdout",
     "output_type": "stream",
     "text": [
      "elapsed:  78.94188952445984\n"
     ]
    },
    {
     "data": {
      "text/plain": [
       "[I Like It Like That (1994),\n",
       " Amateur (1994),\n",
       " Blue in the Face (1995),\n",
       " Even Cowgirls Get the Blues (1993),\n",
       " Love & Human Remains (1993),\n",
       " 1-900 (06) (1994),\n",
       " Flower of My Secret, The (La flor de mi secreto) (1995),\n",
       " Denise Calls Up (1995),\n",
       " Nadja (1994),\n",
       " In the Bleak Midwinter (1995),\n",
       " Awfully Big Adventure, An (1995),\n",
       " Sexual Life of the Belgians, The (Vie sexuelle des Belges 1950-1978, La) (1994),\n",
       " Double Happiness (1994),\n",
       " Funeral, The (1996),\n",
       " French Twist (Gazon maudit) (1995),\n",
       " Bullets Over Broadway (1994),\n",
       " I Shot Andy Warhol (1996),\n",
       " Being Human (1993),\n",
       " Shanghai Triad (Yao a yao yao dao waipo qiao) (1995),\n",
       " Boxing Helena (1993),\n",
       " Secret Adventures of Tom Thumb, The (1993),\n",
       " Little Odessa (1994),\n",
       " Ready to Wear (Pret-A-Porter) (1994),\n",
       " Nina Takes a Lover (1994),\n",
       " Stuart Saves His Family (1995),\n",
       " Love and Other Catastrophes (1996),\n",
       " Star Maker, The (Uomo delle stelle, L') (1995),\n",
       " Heidi Fleiss: Hollywood Madam (1995),\n",
       " Crooklyn (1994),\n",
       " Death and the Maiden (1994),\n",
       " Georgia (1995),\n",
       " Live Nude Girls (1995),\n",
       " Jeffrey (1995),\n",
       " Angels and Insects (1995),\n",
       " Smoke (1995),\n",
       " Go Fish (1994),\n",
       " Maybe, Maybe Not (Bewegte Mann, Der) (1994),\n",
       " Serial Mom (1994),\n",
       " Ladybird Ladybird (1994),\n",
       " Thieves (Voleurs, Les) (1996),\n",
       " Stupids, The (1996),\n",
       " Queen Margot (Reine Margot, La) (1994),\n",
       " Enfer, L' (1994),\n",
       " Confessional, The (Confessionnal, Le) (1995),\n",
       " Old Lady Who Walked in the Sea, The (Vieille qui marchait dans la mer, La) (1991),\n",
       " Blue Juice (1995),\n",
       " Mute Witness (1994),\n",
       " Switchblade Sisters (1975),\n",
       " Young Poisoner's Handbook, The (1995),\n",
       " Mrs. Parker and the Vicious Circle (1994)]"
      ]
     },
     "execution_count": 44,
     "metadata": {},
     "output_type": "execute_result"
    }
   ],
   "source": [
    "start = time.time()\n",
    "calib_reco_items = calib_recommend(items, interacted_distr, topn, lmbda=0.5)\n",
    "elapsed = time.time() - start\n",
    "print('elapsed: ', elapsed)\n",
    "calib_reco_items"
   ]
  },
  {
   "cell_type": "code",
   "execution_count": 45,
   "metadata": {},
   "outputs": [
    {
     "name": "stdout",
     "output_type": "stream",
     "text": [
      "calibrated reco kl-divergence score: 0.6759866905542137\n",
      "calibrated reco precision score: 0.0\n"
     ]
    }
   ],
   "source": [
    "calib_reco_distr = compute_genre_distr(calib_reco_items)\n",
    "calib_reco_kl_div = compute_kl_divergence(interacted_distr, calib_reco_distr)\n",
    "calib_reco_precision = precision(user_item_test, user_id, calib_reco_items, index2item)\n",
    "print('calibrated reco kl-divergence score:', calib_reco_kl_div)\n",
    "print('calibrated reco precision score:', calib_reco_precision)"
   ]
  },
  {
   "cell_type": "code",
   "execution_count": 46,
   "metadata": {},
   "outputs": [
    {
     "data": {
      "image/png": "[encoded data removed]",
      "text/plain": [
       "<Figure size 720x576 with 1 Axes>"
      ]
     },
     "metadata": {
      "image/png": {
       "height": 485,
       "width": 818
      },
      "needs_background": "light"
     },
     "output_type": "display_data"
    }
   ],
   "source": [
    "calib_reco_distr = compute_genre_distr(calib_reco_items)\n",
    "distr_comparison_plot(interacted_distr, calib_reco_distr)"
   ]
  },
  {
   "cell_type": "code",
   "execution_count": null,
   "metadata": {},
   "outputs": [],
   "source": [
    "reco_items"
   ]
  },
  {
   "cell_type": "code",
   "execution_count": 47,
   "metadata": {},
   "outputs": [
    {
     "data": {
      "application/vnd.jupyter.widget-view+json": {
       "model_id": "46656f2b84864aa98b4b73630c581384",
       "version_major": 2,
       "version_minor": 0
      },
      "text/plain": [
       "HBox(children=(FloatProgress(value=0.0, max=10.0), HTML(value='')))"
      ]
     },
     "metadata": {},
     "output_type": "display_data"
    },
    {
     "name": "stdout",
     "output_type": "stream",
     "text": [
      "\n",
      "calibrated reco kl-divergence score: 0.18556420531459877\n",
      "calibrated reco precision score: 0.36538720538720537\n",
      "original reco kl-divergence score: 0.5532788957870228\n",
      "original reco precision score: 0.3098316498316498\n"
     ]
    }
   ],
   "source": [
    "topn = 50\n",
    "user_id = 100\n",
    "lmbda = 0.9\n",
    "\n",
    "prec_cal = 0\n",
    "kl_cal = 0\n",
    "kl_rec = 0\n",
    "prec_rec = 0\n",
    "n = 0\n",
    "\n",
    "for user_id in tqdm(range(1, 11)):\n",
    "    try:\n",
    "        reco = bpr.recommend(user_id, user_item_train, N=topn)\n",
    "        reco_items = [item_mapping[index2item[index]] for index, _ in reco]\n",
    "        reco_distr = compute_genre_distr(reco_items)\n",
    "\n",
    "        interacted_ids = user_item_train[user_id].nonzero()[1]\n",
    "        interacted_items = [item_mapping[index2item[index]] for index in interacted_ids]\n",
    "        interacted_distr = compute_genre_distr(interacted_items)\n",
    "\n",
    "        items = generate_item_candidates(bpr, user_item_train, user_id, index2item, item_mapping)\n",
    "        calib_reco_items = calib_recommend(items, interacted_distr, topn, lmbda)\n",
    "        calib_reco_distr = compute_genre_distr(calib_reco_items)\n",
    "\n",
    "        calib_reco_kl_div = compute_kl_divergence(interacted_distr, calib_reco_distr)\n",
    "        calib_reco_precision = precision(user_item_test, user_id, calib_reco_items, index2item)\n",
    "        #print('calibrated reco kl-divergence score:', calib_reco_kl_div)\n",
    "        #print('calibrated reco precision score:', calib_reco_precision)\n",
    "        #distr_comparison_plot(interacted_distr, calib_reco_distr)\n",
    "\n",
    "        reco_kl_div = compute_kl_divergence(interacted_distr, reco_distr)\n",
    "        reco_precision = precision(user_item_test, user_id, reco_items, index2item)\n",
    "        #print('original reco kl-divergence score:', reco_kl_div)\n",
    "        #print('original reco precision score:', reco_precision)\n",
    "        #distr_comparison_plot(interacted_distr, reco_distr)\n",
    "\n",
    "        prec_rec += reco_precision\n",
    "        prec_cal += calib_reco_precision\n",
    "        kl_rec += reco_kl_div\n",
    "        kl_cal += calib_reco_kl_div\n",
    "        n += 1\n",
    "    except:\n",
    "        continue\n",
    "\n",
    "print('calibrated reco kl-divergence score:', kl_cal/n)\n",
    "print('calibrated reco precision score:', prec_cal/n)\n",
    "print('original reco kl-divergence score:', kl_rec/n)\n",
    "print('original reco precision score:', prec_rec/n)"
   ]
  },
  {
   "cell_type": "code",
   "execution_count": null,
   "metadata": {},
   "outputs": [],
   "source": []
  }
 ],
 "metadata": {
  "kernelspec": {
   "display_name": "Python 3",
   "language": "python",
   "name": "python3"
  },
  "language_info": {
   "codemirror_mode": {
    "name": "ipython",
    "version": 3
   },
   "file_extension": ".py",
   "mimetype": "text/x-python",
   "name": "python",
   "nbconvert_exporter": "python",
   "pygments_lexer": "ipython3",
   "version": "3.7.6"
  }
 },
 "nbformat": 4,
 "nbformat_minor": 4
}
